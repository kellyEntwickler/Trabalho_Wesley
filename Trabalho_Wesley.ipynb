{
  "nbformat": 4,
  "nbformat_minor": 0,
  "metadata": {
    "colab": {
      "name": "Trabalho Wesley",
      "provenance": [],
      "collapsed_sections": []
    },
    "kernelspec": {
      "display_name": "Python 3",
      "name": "python3"
    }
  },
  "cells": [
    {
      "cell_type": "markdown",
      "metadata": {
        "id": "GG_XbPFkvP-e"
      },
      "source": [
        "Formando as Pastas"
      ]
    },
    {
      "cell_type": "code",
      "metadata": {
        "id": "J6a7qeT0vZTc",
        "colab": {
          "base_uri": "https://localhost:8080/"
        },
        "outputId": "6965c504-9fc5-4463-8d7b-ee525ff4ee4a"
      },
      "source": [
        "import os\n",
        "os.system(\"mkdir templates static\")"
      ],
      "execution_count": null,
      "outputs": [
        {
          "output_type": "execute_result",
          "data": {
            "text/plain": [
              "0"
            ]
          },
          "metadata": {},
          "execution_count": 2
        }
      ]
    },
    {
      "cell_type": "markdown",
      "metadata": {
        "id": "mKr11gFDwJyK"
      },
      "source": [
        "**Importando o Flask**\n"
      ]
    },
    {
      "cell_type": "code",
      "metadata": {
        "id": "MPxEpIDMwRYK"
      },
      "source": [
        "!pip install flask-ngrok --quiet\n",
        "\n"
      ],
      "execution_count": null,
      "outputs": []
    },
    {
      "cell_type": "markdown",
      "metadata": {
        "id": "ItYdmhjQCpYK"
      },
      "source": [
        "# Nova seção"
      ]
    },
    {
      "cell_type": "code",
      "metadata": {
        "colab": {
          "base_uri": "https://localhost:8080/"
        },
        "id": "AWS02Fw0CsPT",
        "outputId": "fdd101b7-79a4-4bc1-e4fb-fcedc683f04a"
      },
      "source": [
        "from google.colab import drive\n",
        "drive.mount('/content/drive')"
      ],
      "execution_count": null,
      "outputs": [
        {
          "name": "stdout",
          "output_type": "stream",
          "text": [
            "Go to this URL in a browser: https://accounts.google.com/o/oauth2/auth?client_id=947318989803-6bn6qk8qdgf4n4g3pfee6491hc0brc4i.apps.googleusercontent.com&redirect_uri=urn%3aietf%3awg%3aoauth%3a2.0%3aoob&scope=email%20https%3a%2f%2fwww.googleapis.com%2fauth%2fdocs.test%20https%3a%2f%2fwww.googleapis.com%2fauth%2fdrive%20https%3a%2f%2fwww.googleapis.com%2fauth%2fdrive.photos.readonly%20https%3a%2f%2fwww.googleapis.com%2fauth%2fpeopleapi.readonly%20https%3a%2f%2fwww.googleapis.com%2fauth%2fdrive.activity.readonly%20https%3a%2f%2fwww.googleapis.com%2fauth%2fexperimentsandconfigs%20https%3a%2f%2fwww.googleapis.com%2fauth%2fphotos.native&response_type=code\n",
            "\n",
            "Enter your authorization code:\n",
            "4/1AX4XfWjV-5CfJr41CcVvy6B2P0yC5n1Jk65tvGGT78Y_L7vks1TkMwttZVI\n"
          ]
        }
      ]
    },
    {
      "cell_type": "markdown",
      "metadata": {
        "id": "LmGMRBhQy4Nz"
      },
      "source": [
        "***Criando Rotas***"
      ]
    },
    {
      "cell_type": "code",
      "metadata": {
        "id": "qVjuyx22y_j5",
        "colab": {
          "base_uri": "https://localhost:8080/"
        },
        "outputId": "96be2356-a64a-488a-8c8f-dac686270a3c"
      },
      "source": [
        "from flask_ngrok import run_with_ngrok  \n",
        "from flask import Flask\n",
        "from flask import request, render_template, url_for\n",
        "\n",
        "app = Flask(__name__)\n",
        "run_with_ngrok(app)\n",
        "\n",
        "@app.route(\"/\")\n",
        "def home():\n",
        "  return render_template('home.html')\n",
        "\n",
        "@app.route(\"/SKT\")\n",
        "def skt():\n",
        "  return render_template('SKT.html')\n",
        "\n",
        "\n",
        "@app.route(\"/DK\")\n",
        "def dk():\n",
        "  return render_template('DK.html')\n",
        "\n",
        "@app.route(\"/EDG\")\n",
        "def edg():\n",
        "  return render_template('EDG.html')\n",
        "\n",
        "@app.route(\"/GENG\")\n",
        "def geng():\n",
        "  return render_template('GENG.html')\n",
        "\n",
        "\n",
        "\n",
        "if __name__ == '__main__':\n",
        "    app.run()"
      ],
      "execution_count": null,
      "outputs": [
        {
          "output_type": "stream",
          "name": "stdout",
          "text": [
            " * Serving Flask app \"__main__\" (lazy loading)\n",
            " * Environment: production\n",
            "\u001b[31m   WARNING: This is a development server. Do not use it in a production deployment.\u001b[0m\n",
            "\u001b[2m   Use a production WSGI server instead.\u001b[0m\n",
            " * Debug mode: off\n"
          ]
        },
        {
          "output_type": "stream",
          "name": "stderr",
          "text": [
            " * Running on http://127.0.0.1:5000/ (Press CTRL+C to quit)\n"
          ]
        },
        {
          "output_type": "stream",
          "name": "stdout",
          "text": [
            " * Running on http://0374-34-125-209-87.ngrok.io\n",
            " * Traffic stats available on http://127.0.0.1:4040\n"
          ]
        },
        {
          "output_type": "stream",
          "name": "stderr",
          "text": [
            "127.0.0.1 - - [05/Nov/2021 00:13:11] \"\u001b[37mGET / HTTP/1.1\u001b[0m\" 200 -\n",
            "127.0.0.1 - - [05/Nov/2021 00:13:12] \"\u001b[37mGET /static/SKT.jpg HTTP/1.1\u001b[0m\" 200 -\n",
            "127.0.0.1 - - [05/Nov/2021 00:13:12] \"\u001b[37mGET /static/DK.jpg HTTP/1.1\u001b[0m\" 200 -\n",
            "127.0.0.1 - - [05/Nov/2021 00:13:12] \"\u001b[37mGET /static/EDG.jpg HTTP/1.1\u001b[0m\" 200 -\n",
            "127.0.0.1 - - [05/Nov/2021 00:13:12] \"\u001b[37mGET /static/GENG.jpg HTTP/1.1\u001b[0m\" 200 -\n",
            "127.0.0.1 - - [05/Nov/2021 00:13:14] \"\u001b[33mGET /favicon.ico HTTP/1.1\u001b[0m\" 404 -\n",
            "127.0.0.1 - - [05/Nov/2021 00:13:14] \"\u001b[37mGET /SKT HTTP/1.1\u001b[0m\" 200 -\n",
            "127.0.0.1 - - [05/Nov/2021 00:13:14] \"\u001b[37mGET /static/T1_Oner.png HTTP/1.1\u001b[0m\" 200 -\n",
            "127.0.0.1 - - [05/Nov/2021 00:13:14] \"\u001b[37mGET /static/T1_Canna.png HTTP/1.1\u001b[0m\" 200 -\n",
            "127.0.0.1 - - [05/Nov/2021 00:13:14] \"\u001b[37mGET /static/T1_Faker.png HTTP/1.1\u001b[0m\" 200 -\n",
            "127.0.0.1 - - [05/Nov/2021 00:13:14] \"\u001b[37mGET /static/T1_Keria.png HTTP/1.1\u001b[0m\" 200 -\n",
            "127.0.0.1 - - [05/Nov/2021 00:13:14] \"\u001b[37mGET /static/T1_Gumayusi.png HTTP/1.1\u001b[0m\" 200 -\n",
            "127.0.0.1 - - [05/Nov/2021 00:13:16] \"\u001b[37mGET /DK HTTP/1.1\u001b[0m\" 200 -\n",
            "127.0.0.1 - - [05/Nov/2021 00:13:17] \"\u001b[37mGET /static/DK_BeryL.png HTTP/1.1\u001b[0m\" 200 -\n",
            "127.0.0.1 - - [05/Nov/2021 00:13:17] \"\u001b[37mGET /static/DK_Khan.png HTTP/1.1\u001b[0m\" 200 -\n",
            "127.0.0.1 - - [05/Nov/2021 00:13:17] \"\u001b[37mGET /static/DK_Ghost.png HTTP/1.1\u001b[0m\" 200 -\n",
            "127.0.0.1 - - [05/Nov/2021 00:13:17] \"\u001b[37mGET /static/DK_ShowMaker.png HTTP/1.1\u001b[0m\" 200 -\n",
            "127.0.0.1 - - [05/Nov/2021 00:13:17] \"\u001b[37mGET /static/DK_Canyon.png HTTP/1.1\u001b[0m\" 200 -\n",
            "127.0.0.1 - - [05/Nov/2021 00:13:18] \"\u001b[37mGET /DK HTTP/1.1\u001b[0m\" 200 -\n",
            "127.0.0.1 - - [05/Nov/2021 00:13:19] \"\u001b[37mGET /static/DK_Canyon.png HTTP/1.1\u001b[0m\" 200 -\n",
            "127.0.0.1 - - [05/Nov/2021 00:13:19] \"\u001b[37mGET /static/DK.jpg HTTP/1.1\u001b[0m\" 200 -\n",
            "127.0.0.1 - - [05/Nov/2021 00:13:19] \"\u001b[37mGET /static/DK_Khan.png HTTP/1.1\u001b[0m\" 200 -\n",
            "127.0.0.1 - - [05/Nov/2021 00:13:19] \"\u001b[37mGET /static/DK_BeryL.png HTTP/1.1\u001b[0m\" 200 -\n",
            "127.0.0.1 - - [05/Nov/2021 00:13:19] \"\u001b[37mGET /static/DK_Ghost.png HTTP/1.1\u001b[0m\" 200 -\n",
            "127.0.0.1 - - [05/Nov/2021 00:13:20] \"\u001b[37mGET /EDG HTTP/1.1\u001b[0m\" 200 -\n",
            "127.0.0.1 - - [05/Nov/2021 00:13:20] \"\u001b[37mGET /static/EDG_Meiko.png HTTP/1.1\u001b[0m\" 200 -\n",
            "127.0.0.1 - - [05/Nov/2021 00:13:20] \"\u001b[37mGET /static/EDG_Flandre.png HTTP/1.1\u001b[0m\" 200 -\n",
            "127.0.0.1 - - [05/Nov/2021 00:13:20] \"\u001b[37mGET /static/EDG_Jiejie.png HTTP/1.1\u001b[0m\" 200 -\n",
            "127.0.0.1 - - [05/Nov/2021 00:13:20] \"\u001b[37mGET /static/EDG_Vipe.png HTTP/1.1\u001b[0m\" 200 -\n",
            "127.0.0.1 - - [05/Nov/2021 00:13:20] \"\u001b[37mGET /static/EDG_Scout.png HTTP/1.1\u001b[0m\" 200 -\n",
            "127.0.0.1 - - [05/Nov/2021 00:13:23] \"\u001b[37mGET /static/DK_ShowMaker.png HTTP/1.1\u001b[0m\" 200 -\n",
            "127.0.0.1 - - [05/Nov/2021 00:13:24] \"\u001b[37mGET /GENG HTTP/1.1\u001b[0m\" 200 -\n",
            "127.0.0.1 - - [05/Nov/2021 00:13:24] \"\u001b[37mGET /static/GEN_Life.png HTTP/1.1\u001b[0m\" 200 -\n",
            "127.0.0.1 - - [05/Nov/2021 00:13:24] \"\u001b[37mGET /static/GEN_Rascal.png HTTP/1.1\u001b[0m\" 200 -\n",
            "127.0.0.1 - - [05/Nov/2021 00:13:24] \"\u001b[37mGET /static/GEN_Bdd.png HTTP/1.1\u001b[0m\" 200 -\n",
            "127.0.0.1 - - [05/Nov/2021 00:13:24] \"\u001b[37mGET /static/GEN_Ruler.png HTTP/1.1\u001b[0m\" 200 -\n",
            "127.0.0.1 - - [05/Nov/2021 00:13:24] \"\u001b[37mGET /static/GEN_Clid.png HTTP/1.1\u001b[0m\" 200 -\n",
            "127.0.0.1 - - [05/Nov/2021 00:13:26] \"\u001b[37mGET /GENG HTTP/1.1\u001b[0m\" 200 -\n",
            "127.0.0.1 - - [05/Nov/2021 00:13:27] \"\u001b[37mGET /static/GEN_Life.png HTTP/1.1\u001b[0m\" 200 -\n",
            "127.0.0.1 - - [05/Nov/2021 00:13:27] \"\u001b[37mGET /static/GEN_Rascal.png HTTP/1.1\u001b[0m\" 200 -\n",
            "127.0.0.1 - - [05/Nov/2021 00:13:27] \"\u001b[37mGET /static/GEN_Ruler.png HTTP/1.1\u001b[0m\" 200 -\n",
            "127.0.0.1 - - [05/Nov/2021 00:13:27] \"\u001b[37mGET /static/GEN_Bdd.png HTTP/1.1\u001b[0m\" 200 -\n",
            "127.0.0.1 - - [05/Nov/2021 00:13:27] \"\u001b[37mGET /static/GENG.jpg HTTP/1.1\u001b[0m\" 200 -\n",
            "127.0.0.1 - - [05/Nov/2021 00:13:27] \"\u001b[37mGET /static/GEN_Clid.png HTTP/1.1\u001b[0m\" 200 -\n",
            "127.0.0.1 - - [05/Nov/2021 00:13:27] \"\u001b[37mGET /SKT HTTP/1.1\u001b[0m\" 200 -\n"
          ]
        }
      ]
    },
    {
      "cell_type": "markdown",
      "metadata": {
        "id": "52pmC4arw1mA"
      },
      "source": [
        ""
      ]
    }
  ]
}